{
  "nbformat": 4,
  "nbformat_minor": 0,
  "metadata": {
    "colab": {
      "name": "t_test하기",
      "provenance": [],
      "collapsed_sections": [],
      "include_colab_link": true
    },
    "kernelspec": {
      "name": "python3",
      "display_name": "Python 3"
    }
  },
  "cells": [
    {
      "cell_type": "markdown",
      "metadata": {
        "id": "view-in-github",
        "colab_type": "text"
      },
      "source": [
        "<a href=\"https://colab.research.google.com/github/kitamidori/Python_in_Maya/blob/master/t_test%ED%95%98%EA%B8%B0.ipynb\" target=\"_parent\"><img src=\"https://colab.research.google.com/assets/colab-badge.svg\" alt=\"Open In Colab\"/></a>"
      ]
    },
    {
      "cell_type": "code",
      "metadata": {
        "id": "pPH24ZLuUyc5",
        "colab_type": "code",
        "colab": {}
      },
      "source": [
        "import pandas as pd\n",
        "from scipy import stats\n",
        "import numpy as np\n",
        "import matplotlib.pyplot as plt\n",
        "from google.colab import files\n",
        "import io\n",
        "%matplotlib inline\n",
        "'''\n",
        "uploaded = files.upload()\n",
        "for fn in uploaded.keys():\n",
        "  print('User uploaded file \"{name}\" with length {length} bytes'.format(name=fn, length=len(uploaded[fn])))\n",
        "df = pd.read_csv(io.StringIO(uploaded['testexcel.csv'].decode('utf-8')))\n",
        "print (df)\n",
        "'''\n",
        "data0 = 0\n",
        "data1 = [1,3,4]\n",
        "data2 = [2,3,3]\n",
        "dng_boonsan = stats.levene(data1, data2)\n",
        "\n",
        "print (data1)\n",
        "print (data2)\n",
        "print (dng_boonsan)\n",
        "\n",
        "plt.figure(figsize=(3,3))\n",
        "plt.plot(data1)\n",
        "plt.figure(figsize=(2,2))\n",
        "plt.plot(data1)"
      ],
      "execution_count": 0,
      "outputs": []
    },
    {
      "cell_type": "markdown",
      "metadata": {
        "id": "nZBOB3WcrvMp",
        "colab_type": "text"
      },
      "source": [
        "*2*. 평균, 표준편차 구하기\n",
        "\n",
        "엑셀의 =STDEV.P(B88:B101)가 이거랑 같다.\n"
      ]
    },
    {
      "cell_type": "code",
      "metadata": {
        "id": "CftrJUzqrtxG",
        "colab_type": "code",
        "colab": {
          "base_uri": "https://localhost:8080/",
          "height": 56
        },
        "outputId": "c6198aba-6628-4343-e29d-c95910454f1f"
      },
      "source": [
        "import pandas as pd\n",
        "from scipy import stats\n",
        "import numpy as np\n",
        "import matplotlib.pyplot as plt\n",
        "\n",
        "data0 = 0\n",
        "data1 = [27.79822298,38.16522099,36.67521806,29.87529888,38.53685526]\n",
        "#data2 = [2,3,3]\n",
        "\n",
        "mean_ = np.mean(data1)\n",
        "std_ = np.std(data1)\n",
        "\n",
        "print (mean_)\n",
        "print (std_)\n"
      ],
      "execution_count": 1,
      "outputs": [
        {
          "output_type": "stream",
          "text": [
            "34.21016323400001\n",
            "4.479805081134202\n"
          ],
          "name": "stdout"
        }
      ]
    },
    {
      "cell_type": "markdown",
      "metadata": {
        "id": "YPk6clS9lmDv",
        "colab_type": "text"
      },
      "source": [
        "3. Before t-test - 등분산 검정\n",
        "\n",
        "\n"
      ]
    },
    {
      "cell_type": "code",
      "metadata": {
        "id": "ThbC-6ejliVV",
        "colab_type": "code",
        "colab": {}
      },
      "source": [
        "import pandas as pd\n",
        "from scipy import stats\n",
        "import numpy as np\n",
        "import matplotlib.pyplot as plt\n",
        "\n",
        "data_for_F_test_1 = [11.15003208,11.72650319,10.74379562,10.89647914,10.60516954,11.03585474,11.71517284,8.711994448,14.7447952,14.06054361]\n",
        "data_for_F_test_2 = [14.36116328,11.40483366,11.94610615,15.80012966,11.05083615,13.2012897,17.66704059,10.98234692,21.20830696,17.93924548]\n",
        "\n",
        "LeveneResult_F_ = stats.levene(data_for_F_test_1, data_for_F_test_2)\n",
        "\n",
        "print (LeveneResult_F_)\n"
      ],
      "execution_count": 0,
      "outputs": []
    },
    {
      "cell_type": "markdown",
      "metadata": {
        "id": "kiNh-lPJlkIx",
        "colab_type": "text"
      },
      "source": [
        "3. F값이 0.05보다 크면 동일하지 않은 것 - 등분산이 아니다. - 이분산\n"
      ]
    },
    {
      "cell_type": "code",
      "metadata": {
        "id": "dFdGfJutlite",
        "colab_type": "code",
        "outputId": "c5746625-095c-404e-8d80-613413c6d327",
        "colab": {
          "base_uri": "https://localhost:8080/",
          "height": 133
        }
      },
      "source": [
        "import pandas as pd\n",
        "from scipy import stats\n",
        "import numpy as np\n",
        "import matplotlib.pyplot as plt\n",
        "\n",
        "data_for_F_test_1 = [8.653394181,13.58263488,14.10518508,14.65127825,8.764778729]\n",
        "\n",
        "data_for_F_test_2 = [11.15003208,11.72650319,10.74379562,10.89647914,10.60516954,11.03585474,11.71517284,8.711994448,14.7447952,14.06054361,]\n",
        "                     \n",
        "LeveneResult_F_ = stats.levene(data_for_F_test_1, data_for_F_test_2)\n",
        "\n",
        "sds_result_iboon = stats.ttest_ind(data_for_F_test_1, data_for_F_test_2, equal_var=False)\n",
        "sds_result_doong = stats.ttest_ind(data_for_F_test_1, data_for_F_test_2, equal_var=True)\n",
        "print (LeveneResult_F_, \"0.05 > iboonsan, 0.05 < doong\")\n",
        "a = LeveneResult_F_\n",
        "print (a[1])\n",
        "\n",
        "if a[1] > 0.05:\n",
        "  print (\"0.05보다 크니 등분산\")\n",
        "  print (sds_result_doong)\n",
        "else:\n",
        "  print (\"0.05보다 작으니 이분산\")\n",
        "  print (sds_result_iboon)\n",
        "\n",
        "print (\"등분산=\", sds_result_doong)\n",
        "print (\"이분산=\", sds_result_iboon)\n",
        "\n"
      ],
      "execution_count": 0,
      "outputs": [
        {
          "output_type": "stream",
          "text": [
            "LeveneResult(statistic=1.4042792256435244, pvalue=0.25721986124431606) 0.05 > iboonsan, 0.05 < doong\n",
            "0.25721986124431606\n",
            "0.05보다 크니 등분산\n",
            "Ttest_indResult(statistic=0.34303653000495293, pvalue=0.7370546723152707)\n",
            "등분산= Ttest_indResult(statistic=0.34303653000495293, pvalue=0.7370546723152707)\n",
            "이분산= Ttest_indResult(statistic=0.28588010902322786, pvalue=0.7856272544682836)\n"
          ],
          "name": "stdout"
        }
      ]
    }
  ]
}